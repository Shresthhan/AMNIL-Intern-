{
 "cells": [
  {
   "cell_type": "markdown",
   "id": "e13abadd-0f68-4b87-b3fc-94e8c7255333",
   "metadata": {},
   "source": [
    "# Credit Card Fraud Detection Using Machine Learning"
   ]
  },
  {
   "cell_type": "markdown",
   "id": "852471d2-e3b4-4297-a56f-849d570bfd1a",
   "metadata": {
    "jp-MarkdownHeadingCollapsed": true
   },
   "source": [
    "## Objective:\n",
    "- Detect fraudulent credit card transactions using machine learning models while handling class imbalance effectively.\n",
    "\n",
    "## Dataset:\n",
    "The Kaggle Credit Card Transactions dataset, which contains transactions labeled as legitimate (0) or fraudulent (1). The dataset is highly imbalanced, with fraud cases representing a small fraction of all transactions.\n",
    "\n",
    "## Approach:\n",
    "\n",
    "1. Data Preprocessing:\n",
    "\n",
    "- Feature-target separation and optional standardization.\n",
    "\n",
    "- Handling missing values if any.\n",
    "\n",
    "2. Handling Imbalance:\n",
    "\n",
    "- Oversampling the minority class using SMOTE to generate synthetic fraud examples.\n",
    "\n",
    "- Ensures models learn patterns from both classes effectively.\n",
    "\n",
    "3. Modeling:\n",
    "\n",
    "- Random Forest (RF)\n",
    "\n",
    "- XGBoost (XGB)\n",
    "\n",
    "- LightGBM (LGBM)\n",
    "\n",
    "- Models are trained on the oversampled dataset and evaluated using classification metrics such as precision, recall, F1-score, and confusion matrix.\n",
    "\n",
    "4. Experiment Tracking:\n",
    "\n",
    "- MLflow is used to log parameters, metrics, and trained models for reproducibility and monitoring.\n",
    "\n",
    "5. Inference:\n",
    "\n",
    "- Trained models are saved and can be loaded later to predict fraud on new/unseen transactions.\n",
    "\n",
    "## Goal:\n",
    "Develop robust, reproducible models for fraud detection, ensuring high recall on fraud cases while maintaining acceptable performance on legitimate transactions."
   ]
  },
  {
   "cell_type": "markdown",
   "id": "d6b47a2f-eaf7-4042-a7c6-1729ae9308e1",
   "metadata": {},
   "source": [
    "# Model"
   ]
  },
  {
   "cell_type": "markdown",
   "id": "50177f4f-7d8d-41e1-96a6-372484b72833",
   "metadata": {},
   "source": [
    "## Importing Libraries "
   ]
  },
  {
   "cell_type": "code",
   "execution_count": 5,
   "id": "17c3c4a4-2870-4777-9d2b-865ff514c22b",
   "metadata": {
    "scrolled": true
   },
   "outputs": [
    {
     "name": "stdout",
     "output_type": "stream",
     "text": [
      "Collecting polars\n",
      "  Using cached polars-1.33.1-cp39-abi3-win_amd64.whl.metadata (15 kB)\n",
      "Downloading polars-1.33.1-cp39-abi3-win_amd64.whl (39.5 MB)\n",
      "   ---------------------------------------- 0.0/39.5 MB ? eta -:--:--\n",
      "   ---------------------------------------- 0.3/39.5 MB ? eta -:--:--\n",
      "   - -------------------------------------- 1.3/39.5 MB 6.1 MB/s eta 0:00:07\n",
      "   -- ------------------------------------- 2.1/39.5 MB 6.5 MB/s eta 0:00:06\n",
      "   --- ------------------------------------ 3.4/39.5 MB 5.4 MB/s eta 0:00:07\n",
      "   ----- ---------------------------------- 5.0/39.5 MB 5.7 MB/s eta 0:00:07\n",
      "   ------ --------------------------------- 6.6/39.5 MB 6.1 MB/s eta 0:00:06\n",
      "   ------- -------------------------------- 7.9/39.5 MB 6.2 MB/s eta 0:00:06\n",
      "   --------- ------------------------------ 8.9/39.5 MB 5.9 MB/s eta 0:00:06\n",
      "   ---------- ----------------------------- 10.0/39.5 MB 5.7 MB/s eta 0:00:06\n",
      "   ---------- ----------------------------- 10.7/39.5 MB 5.8 MB/s eta 0:00:05\n",
      "   ------------ --------------------------- 12.3/39.5 MB 5.8 MB/s eta 0:00:05\n",
      "   ------------- -------------------------- 13.1/39.5 MB 5.8 MB/s eta 0:00:05\n",
      "   -------------- ------------------------- 14.4/39.5 MB 5.7 MB/s eta 0:00:05\n",
      "   --------------- ------------------------ 15.5/39.5 MB 5.6 MB/s eta 0:00:05\n",
      "   ---------------- ----------------------- 16.5/39.5 MB 5.6 MB/s eta 0:00:05\n",
      "   ----------------- ---------------------- 17.3/39.5 MB 5.5 MB/s eta 0:00:05\n",
      "   ------------------ --------------------- 18.1/39.5 MB 5.4 MB/s eta 0:00:04\n",
      "   ------------------- -------------------- 19.7/39.5 MB 5.5 MB/s eta 0:00:04\n",
      "   --------------------- ------------------ 21.2/39.5 MB 5.6 MB/s eta 0:00:04\n",
      "   ---------------------- ----------------- 22.5/39.5 MB 5.6 MB/s eta 0:00:04\n",
      "   ----------------------- ---------------- 23.6/39.5 MB 5.6 MB/s eta 0:00:03\n",
      "   ------------------------ --------------- 24.4/39.5 MB 5.5 MB/s eta 0:00:03\n",
      "   ------------------------- -------------- 25.2/39.5 MB 5.4 MB/s eta 0:00:03\n",
      "   -------------------------- ------------- 26.2/39.5 MB 5.5 MB/s eta 0:00:03\n",
      "   -------------------------- ------------- 26.5/39.5 MB 5.4 MB/s eta 0:00:03\n",
      "   --------------------------- ------------ 27.0/39.5 MB 5.1 MB/s eta 0:00:03\n",
      "   ---------------------------- ----------- 27.8/39.5 MB 5.1 MB/s eta 0:00:03\n",
      "   ----------------------------- ---------- 28.8/39.5 MB 5.1 MB/s eta 0:00:03\n",
      "   ------------------------------ --------- 29.6/39.5 MB 5.0 MB/s eta 0:00:02\n",
      "   ------------------------------- -------- 30.7/39.5 MB 5.1 MB/s eta 0:00:02\n",
      "   -------------------------------- ------- 32.2/39.5 MB 5.1 MB/s eta 0:00:02\n",
      "   --------------------------------- ------ 33.0/39.5 MB 5.1 MB/s eta 0:00:02\n",
      "   ----------------------------------- ---- 34.6/39.5 MB 5.1 MB/s eta 0:00:01\n",
      "   ------------------------------------ --- 35.7/39.5 MB 5.1 MB/s eta 0:00:01\n",
      "   ------------------------------------- -- 36.7/39.5 MB 5.1 MB/s eta 0:00:01\n",
      "   -------------------------------------- - 37.7/39.5 MB 5.1 MB/s eta 0:00:01\n",
      "   ---------------------------------------  39.1/39.5 MB 5.1 MB/s eta 0:00:01\n",
      "   ---------------------------------------- 39.5/39.5 MB 5.1 MB/s eta 0:00:00\n",
      "Installing collected packages: polars\n",
      "Successfully installed polars-1.33.1\n"
     ]
    }
   ],
   "source": [
    "!pip install polars"
   ]
  },
  {
   "cell_type": "code",
   "execution_count": 6,
   "id": "f730b23c-9a29-4123-b2c4-e0e5fc675bad",
   "metadata": {},
   "outputs": [],
   "source": [
    "import polars as pl"
   ]
  },
  {
   "cell_type": "markdown",
   "id": "3e73f821-c71f-4975-9016-cec087444528",
   "metadata": {},
   "source": [
    "## Basic Observations"
   ]
  },
  {
   "cell_type": "code",
   "execution_count": 19,
   "id": "06d16876-4e72-4447-b358-c4babc6c3762",
   "metadata": {},
   "outputs": [
    {
     "data": {
      "text/html": [
       "<div><style>\n",
       ".dataframe > thead > tr,\n",
       ".dataframe > tbody > tr {\n",
       "  text-align: right;\n",
       "  white-space: pre-wrap;\n",
       "}\n",
       "</style>\n",
       "<small>shape: (5, 24)</small><table border=\"1\" class=\"dataframe\"><thead><tr><th>Unnamed: 0</th><th>trans_date_trans_time</th><th>cc_num</th><th>merchant</th><th>category</th><th>amt</th><th>first</th><th>last</th><th>gender</th><th>street</th><th>city</th><th>state</th><th>zip</th><th>lat</th><th>long</th><th>city_pop</th><th>job</th><th>dob</th><th>trans_num</th><th>unix_time</th><th>merch_lat</th><th>merch_long</th><th>is_fraud</th><th>merch_zipcode</th></tr><tr><td>i64</td><td>str</td><td>i64</td><td>str</td><td>str</td><td>f64</td><td>str</td><td>str</td><td>str</td><td>str</td><td>str</td><td>str</td><td>i64</td><td>f64</td><td>f64</td><td>i64</td><td>str</td><td>str</td><td>str</td><td>i64</td><td>f64</td><td>f64</td><td>i64</td><td>i64</td></tr></thead><tbody><tr><td>910955</td><td>&quot;2019-12-29 06:51:05&quot;</td><td>3554818239968984</td><td>&quot;fraud_Wisozk and Sons&quot;</td><td>&quot;misc_pos&quot;</td><td>30.63</td><td>&quot;Cory&quot;</td><td>&quot;Thomas&quot;</td><td>&quot;M&quot;</td><td>&quot;6458 Roberson Alley&quot;</td><td>&quot;Williamsburg&quot;</td><td>&quot;MO&quot;</td><td>63388</td><td>38.8874</td><td>-91.7689</td><td>710</td><td>&quot;Glass blower/designer&quot;</td><td>&quot;1970-09-27&quot;</td><td>&quot;ef018a61d8962535b4c9b7f25ad391…</td><td>1356763865</td><td>39.100058</td><td>-91.38375</td><td>0</td><td>63359</td></tr><tr><td>332081</td><td>&quot;2019-06-07 09:16:43&quot;</td><td>340951438290556</td><td>&quot;fraud_Block-Parisian&quot;</td><td>&quot;misc_net&quot;</td><td>14.62</td><td>&quot;Maria&quot;</td><td>&quot;Garcia&quot;</td><td>&quot;F&quot;</td><td>&quot;865 Thomas Village&quot;</td><td>&quot;Orangeburg&quot;</td><td>&quot;NY&quot;</td><td>10962</td><td>41.0442</td><td>-73.9609</td><td>5950</td><td>&quot;Records manager&quot;</td><td>&quot;1971-07-02&quot;</td><td>&quot;c8a19ee871094e8056f022cfa83278…</td><td>1339060603</td><td>40.956776</td><td>-74.28356</td><td>0</td><td>7444</td></tr><tr><td>914541</td><td>&quot;2019-12-29 19:58:00&quot;</td><td>2296006538441789</td><td>&quot;fraud_Turcotte, McKenzie and K…</td><td>&quot;entertainment&quot;</td><td>34.32</td><td>&quot;Judy&quot;</td><td>&quot;Hogan&quot;</td><td>&quot;F&quot;</td><td>&quot;4970 Michelle Burgs&quot;</td><td>&quot;Brooklyn&quot;</td><td>&quot;NY&quot;</td><td>11217</td><td>40.6816</td><td>-73.9798</td><td>2504700</td><td>&quot;Medical sales representative&quot;</td><td>&quot;1999-09-01&quot;</td><td>&quot;fcb02b4fc038952250f5a489efa807…</td><td>1356811080</td><td>41.673355</td><td>-74.453447</td><td>0</td><td>12763</td></tr><tr><td>1193436</td><td>&quot;2020-05-13 08:36:41&quot;</td><td>4997733566924489</td><td>&quot;fraud_Block-Parisian&quot;</td><td>&quot;misc_net&quot;</td><td>93.23</td><td>&quot;Stephanie&quot;</td><td>&quot;Taylor&quot;</td><td>&quot;F&quot;</td><td>&quot;598 Martin Pine Suite 365&quot;</td><td>&quot;Saint Paul&quot;</td><td>&quot;MN&quot;</td><td>55128</td><td>44.9913</td><td>-92.9487</td><td>753116</td><td>&quot;Fisheries officer&quot;</td><td>&quot;1971-08-06&quot;</td><td>&quot;71a2e8d48ce083983504cff79cc8ea…</td><td>1368434201</td><td>44.186338</td><td>-92.256772</td><td>0</td><td>55932</td></tr><tr><td>33017</td><td>&quot;2019-01-20 17:18:46&quot;</td><td>346273234529002</td><td>&quot;fraud_Dibbert and Sons&quot;</td><td>&quot;entertainment&quot;</td><td>72.57</td><td>&quot;Donna&quot;</td><td>&quot;Moreno&quot;</td><td>&quot;F&quot;</td><td>&quot;32301 Albert River Suite 364&quot;</td><td>&quot;Ronceverte&quot;</td><td>&quot;WV&quot;</td><td>24970</td><td>37.7418</td><td>-80.4626</td><td>4575</td><td>&quot;Statistician&quot;</td><td>&quot;1991-10-22&quot;</td><td>&quot;3dd7eb628e93a3f7afce44a65146a7…</td><td>1327079926</td><td>38.430593</td><td>-79.603407</td><td>0</td><td>24465</td></tr></tbody></table></div>"
      ],
      "text/plain": [
       "shape: (5, 24)\n",
       "┌───────────┬───────────┬───────────┬───────────┬───┬───────────┬───────────┬──────────┬───────────┐\n",
       "│ Unnamed:  ┆ trans_dat ┆ cc_num    ┆ merchant  ┆ … ┆ merch_lat ┆ merch_lon ┆ is_fraud ┆ merch_zip │\n",
       "│ 0         ┆ e_trans_t ┆ ---       ┆ ---       ┆   ┆ ---       ┆ g         ┆ ---      ┆ code      │\n",
       "│ ---       ┆ ime       ┆ i64       ┆ str       ┆   ┆ f64       ┆ ---       ┆ i64      ┆ ---       │\n",
       "│ i64       ┆ ---       ┆           ┆           ┆   ┆           ┆ f64       ┆          ┆ i64       │\n",
       "│           ┆ str       ┆           ┆           ┆   ┆           ┆           ┆          ┆           │\n",
       "╞═══════════╪═══════════╪═══════════╪═══════════╪═══╪═══════════╪═══════════╪══════════╪═══════════╡\n",
       "│ 910955    ┆ 2019-12-2 ┆ 355481823 ┆ fraud_Wis ┆ … ┆ 39.100058 ┆ -91.38375 ┆ 0        ┆ 63359     │\n",
       "│           ┆ 9         ┆ 9968984   ┆ ozk and   ┆   ┆           ┆           ┆          ┆           │\n",
       "│           ┆ 06:51:05  ┆           ┆ Sons      ┆   ┆           ┆           ┆          ┆           │\n",
       "│ 332081    ┆ 2019-06-0 ┆ 340951438 ┆ fraud_Blo ┆ … ┆ 40.956776 ┆ -74.28356 ┆ 0        ┆ 7444      │\n",
       "│           ┆ 7         ┆ 290556    ┆ ck-Parisi ┆   ┆           ┆           ┆          ┆           │\n",
       "│           ┆ 09:16:43  ┆           ┆ an        ┆   ┆           ┆           ┆          ┆           │\n",
       "│ 914541    ┆ 2019-12-2 ┆ 229600653 ┆ fraud_Tur ┆ … ┆ 41.673355 ┆ -74.45344 ┆ 0        ┆ 12763     │\n",
       "│           ┆ 9         ┆ 8441789   ┆ cotte,    ┆   ┆           ┆ 7         ┆          ┆           │\n",
       "│           ┆ 19:58:00  ┆           ┆ McKenzie  ┆   ┆           ┆           ┆          ┆           │\n",
       "│           ┆           ┆           ┆ and K…    ┆   ┆           ┆           ┆          ┆           │\n",
       "│ 1193436   ┆ 2020-05-1 ┆ 499773356 ┆ fraud_Blo ┆ … ┆ 44.186338 ┆ -92.25677 ┆ 0        ┆ 55932     │\n",
       "│           ┆ 3         ┆ 6924489   ┆ ck-Parisi ┆   ┆           ┆ 2         ┆          ┆           │\n",
       "│           ┆ 08:36:41  ┆           ┆ an        ┆   ┆           ┆           ┆          ┆           │\n",
       "│ 33017     ┆ 2019-01-2 ┆ 346273234 ┆ fraud_Dib ┆ … ┆ 38.430593 ┆ -79.60340 ┆ 0        ┆ 24465     │\n",
       "│           ┆ 0         ┆ 529002    ┆ bert and  ┆   ┆           ┆ 7         ┆          ┆           │\n",
       "│           ┆ 17:18:46  ┆           ┆ Sons      ┆   ┆           ┆           ┆          ┆           │\n",
       "└───────────┴───────────┴───────────┴───────────┴───┴───────────┴───────────┴──────────┴───────────┘"
      ]
     },
     "execution_count": 19,
     "metadata": {},
     "output_type": "execute_result"
    }
   ],
   "source": [
    "# Load CSV\n",
    "df = pl.read_csv(r\"C:\\Users\\DELL\\Desktop\\AMNIL Intern\\credit_card_transactions.csv\")\n",
    "\n",
    "# View first rows\n",
    "df.sample(5)"
   ]
  },
  {
   "cell_type": "code",
   "execution_count": 22,
   "id": "aec47bf3-2fd4-43fc-9684-82cb2d5f9af2",
   "metadata": {},
   "outputs": [
    {
     "data": {
      "text/plain": [
       "['Unnamed: 0',\n",
       " 'trans_date_trans_time',\n",
       " 'cc_num',\n",
       " 'merchant',\n",
       " 'category',\n",
       " 'amt',\n",
       " 'first',\n",
       " 'last',\n",
       " 'gender',\n",
       " 'street',\n",
       " 'city',\n",
       " 'state',\n",
       " 'zip',\n",
       " 'lat',\n",
       " 'long',\n",
       " 'city_pop',\n",
       " 'job',\n",
       " 'dob',\n",
       " 'trans_num',\n",
       " 'unix_time',\n",
       " 'merch_lat',\n",
       " 'merch_long',\n",
       " 'is_fraud',\n",
       " 'merch_zipcode']"
      ]
     },
     "execution_count": 22,
     "metadata": {},
     "output_type": "execute_result"
    }
   ],
   "source": [
    "df.columns"
   ]
  },
  {
   "cell_type": "markdown",
   "id": "65e8dba3-7f3a-4520-87e9-59a6db52f619",
   "metadata": {},
   "source": [
    "- Unnamed: 0 – This is just an index column created when exporting the CSV; it doesn’t carry any information about the transaction.\n",
    "\n",
    "- trans_date_trans_time – The exact date and time when the transaction occurred. This can be used to derive features like the hour of the day, day of the week, or month.\n",
    "\n",
    "- cc_num – The credit card number used for the transaction. This is sensitive information and not used directly for modeling.\n",
    "\n",
    "- merchant – The name of the merchant where the transaction took place. Different merchants may have different fraud risks.\n",
    "\n",
    "- category – The type of transaction, such as entertainment, miscellaneous, or online purchases. This can help identify patterns in spending behavior.\n",
    "\n",
    "- amt – The amount of money involved in the transaction. Larger amounts may have higher fraud risk.\n",
    "\n",
    "- first – First name of the cardholder. Not relevant for modeling.\n",
    "\n",
    "- last – Last name of the cardholder. Not relevant for modeling.\n",
    "\n",
    "- gender – Gender of the cardholder (male or female). Can be used as a categorical feature.\n",
    "\n",
    "- street – Street address of the cardholder. Usually not used directly for modeling.\n",
    "\n",
    "- city – City of the cardholder. May help identify geographic patterns.\n",
    "\n",
    "- state – State of the cardholder. Can be encoded to capture regional differences.\n",
    "\n",
    "- zip – ZIP code of the cardholder. Can be used as a numeric or categorical feature.\n",
    "\n",
    "- lat – Latitude of the cardholder’s location. Useful for detecting unusual transaction locations.\n",
    "\n",
    "- long – Longitude of the cardholder’s location. Useful for detecting unusual transaction locations.\n",
    "\n",
    "- city_pop – Population of the cardholder’s city. Could be correlated with fraud risk depending on urban vs rural behavior.\n",
    "\n",
    "- job – Occupation of the cardholder. Certain job categories may be associated with different spending patterns.\n",
    "\n",
    "- dob – Date of birth of the cardholder. Can be used to calculate age for modeling.\n",
    "\n",
    "- trans_num – Unique identifier for each transaction. Not used as a feature.\n",
    "\n",
    "- unix_time – The transaction time represented in UNIX timestamp format. Alternative to trans_date_trans_time.\n",
    "\n",
    "- merch_lat – Latitude of the merchant location. Helps detect transactions occurring far from the cardholder’s usual area.\n",
    "\n",
    "- merch_long – Longitude of the merchant location. Helps detect unusual transaction locations.\n",
    "\n",
    "- is_fraud – Target variable: 1 indicates a fraudulent transaction, 0 indicates legitimate.\n",
    "\n",
    "- merch_zipcode – ZIP code of the merchant. Can help capture geographic patterns in fraud."
   ]
  },
  {
   "cell_type": "code",
   "execution_count": 24,
   "id": "86225255-57d7-42d8-a3bb-f70ad7cb1453",
   "metadata": {},
   "outputs": [
    {
     "data": {
      "text/plain": [
       "(1296675, 24)"
      ]
     },
     "execution_count": 24,
     "metadata": {},
     "output_type": "execute_result"
    }
   ],
   "source": [
    "df.shape"
   ]
  },
  {
   "cell_type": "code",
   "execution_count": 28,
   "id": "30306874-0a2b-4bde-b423-f8e9f1cd3d4d",
   "metadata": {},
   "outputs": [
    {
     "data": {
      "text/html": [
       "<div><style>\n",
       ".dataframe > thead > tr,\n",
       ".dataframe > tbody > tr {\n",
       "  text-align: right;\n",
       "  white-space: pre-wrap;\n",
       "}\n",
       "</style>\n",
       "<small>shape: (1, 24)</small><table border=\"1\" class=\"dataframe\"><thead><tr><th>Unnamed: 0</th><th>trans_date_trans_time</th><th>cc_num</th><th>merchant</th><th>category</th><th>amt</th><th>first</th><th>last</th><th>gender</th><th>street</th><th>city</th><th>state</th><th>zip</th><th>lat</th><th>long</th><th>city_pop</th><th>job</th><th>dob</th><th>trans_num</th><th>unix_time</th><th>merch_lat</th><th>merch_long</th><th>is_fraud</th><th>merch_zipcode</th></tr><tr><td>u32</td><td>u32</td><td>u32</td><td>u32</td><td>u32</td><td>u32</td><td>u32</td><td>u32</td><td>u32</td><td>u32</td><td>u32</td><td>u32</td><td>u32</td><td>u32</td><td>u32</td><td>u32</td><td>u32</td><td>u32</td><td>u32</td><td>u32</td><td>u32</td><td>u32</td><td>u32</td><td>u32</td></tr></thead><tbody><tr><td>0</td><td>0</td><td>0</td><td>0</td><td>0</td><td>0</td><td>0</td><td>0</td><td>0</td><td>0</td><td>0</td><td>0</td><td>0</td><td>0</td><td>0</td><td>0</td><td>0</td><td>0</td><td>0</td><td>0</td><td>0</td><td>0</td><td>0</td><td>195973</td></tr></tbody></table></div>"
      ],
      "text/plain": [
       "shape: (1, 24)\n",
       "┌────────────┬────────────┬────────┬──────────┬───┬───────────┬────────────┬──────────┬────────────┐\n",
       "│ Unnamed: 0 ┆ trans_date ┆ cc_num ┆ merchant ┆ … ┆ merch_lat ┆ merch_long ┆ is_fraud ┆ merch_zipc │\n",
       "│ ---        ┆ _trans_tim ┆ ---    ┆ ---      ┆   ┆ ---       ┆ ---        ┆ ---      ┆ ode        │\n",
       "│ u32        ┆ e          ┆ u32    ┆ u32      ┆   ┆ u32       ┆ u32        ┆ u32      ┆ ---        │\n",
       "│            ┆ ---        ┆        ┆          ┆   ┆           ┆            ┆          ┆ u32        │\n",
       "│            ┆ u32        ┆        ┆          ┆   ┆           ┆            ┆          ┆            │\n",
       "╞════════════╪════════════╪════════╪══════════╪═══╪═══════════╪════════════╪══════════╪════════════╡\n",
       "│ 0          ┆ 0          ┆ 0      ┆ 0        ┆ … ┆ 0         ┆ 0          ┆ 0        ┆ 195973     │\n",
       "└────────────┴────────────┴────────┴──────────┴───┴───────────┴────────────┴──────────┴────────────┘"
      ]
     },
     "execution_count": 28,
     "metadata": {},
     "output_type": "execute_result"
    }
   ],
   "source": [
    "df.null_count()"
   ]
  },
  {
   "cell_type": "markdown",
   "id": "7746fb12-912c-401e-a20c-de3a2dab6e8a",
   "metadata": {},
   "source": [
    "Here, we can see that there is almost no null values in every features except \"merch_zipcode\" so we need to handle this."
   ]
  },
  {
   "cell_type": "markdown",
   "id": "004891af-4ac6-4410-b4f4-804b00c1bdda",
   "metadata": {},
   "source": [
    "## Feature Engineering "
   ]
  },
  {
   "cell_type": "markdown",
   "id": "e1e78bec-7dd1-482f-80eb-058a1ce7032b",
   "metadata": {},
   "source": [
    "\"trans_date_trans_time\t\" is converted into Datetime format "
   ]
  },
  {
   "cell_type": "code",
   "execution_count": 42,
   "id": "aeabbb6d-3531-4607-b091-4a069c14c851",
   "metadata": {},
   "outputs": [],
   "source": [
    "df = df.with_columns([\n",
    "    pl.col(\"trans_date_trans_time\")\n",
    "      .str.strptime(pl.Datetime, \"%Y-%m-%d %H:%M:%S\")\n",
    "      .alias(\"trans_date_trans_time\")\n",
    "])"
   ]
  },
  {
   "cell_type": "markdown",
   "id": "d4f34297-6400-432a-906b-4f1c33776e0b",
   "metadata": {},
   "source": [
    "Creating a new feature named \"trans_day_cycle\" which indicates the time of transcation in a cycle of day format. Here, the entries are \"morning\", \"afternoon\", \"evening\" and \"night\". This shows the time on the day when there is max fraud cases."
   ]
  },
  {
   "cell_type": "code",
   "execution_count": 48,
   "id": "d21cdbbf-0f12-49c5-919d-e1b22857ec2a",
   "metadata": {},
   "outputs": [],
   "source": [
    "# Extract hour\n",
    "df = df.with_columns([\n",
    "    df[\"trans_date_trans_time\"].dt.hour().alias(\"hour\")\n",
    "])\n",
    "\n",
    "# Map to day cycle\n",
    "def day_cycle(hour: int) -> str:\n",
    "    if 5 <= hour < 12:\n",
    "        return \"morning\"\n",
    "    elif 12 <= hour < 17:\n",
    "        return \"afternoon\"\n",
    "    elif 17 <= hour < 21:\n",
    "        return \"evening\"\n",
    "    else:\n",
    "        return \"night\"\n",
    "\n",
    "df = df.with_columns([\n",
    "    df[\"hour\"].map_elements(day_cycle, return_dtype=pl.Utf8).alias(\"trans_day_cycle\")\n",
    "])\n"
   ]
  },
  {
   "cell_type": "markdown",
   "id": "ea9a8c91-a5b7-4736-9402-2d106cf1e2c3",
   "metadata": {},
   "source": [
    "A new feature names \"trans_season\" is created from datetime to see the probability of fraud cases in each seasons."
   ]
  },
  {
   "cell_type": "code",
   "execution_count": 61,
   "id": "edabfea6-c784-4153-8b82-d4a5eb5b58ab",
   "metadata": {},
   "outputs": [],
   "source": [
    "df = df.with_columns([\n",
    "    df[\"trans_date_trans_time\"].dt.month().alias(\"month\")\n",
    "])\n",
    "\n",
    "# Define mapping function\n",
    "def get_season(month: int) -> str:\n",
    "    if month in [12, 1, 2]:\n",
    "        return \"winter\"\n",
    "    elif month in [3, 4, 5]:\n",
    "        return \"spring\"\n",
    "    elif month in [6, 7, 8]:\n",
    "        return \"summer\"\n",
    "    else:\n",
    "        return \"autumn\"\n",
    "\n",
    "# Apply mapping\n",
    "df = df.with_columns([\n",
    "    df[\"month\"].map_elements(get_season, return_dtype=pl.Utf8).alias(\"trans_season\")\n",
    "])"
   ]
  },
  {
   "cell_type": "markdown",
   "id": "88cd9397-827a-4bbf-846c-9cdff1a208fa",
   "metadata": {},
   "source": [
    "### Binning amount\n",
    "The raw transaction amount (amt) is converted into a categorical feature named trans_amt_range, where amounts are grouped into small, medium, and large ranges. This transformation helps capture patterns in fraud likelihood based on transaction size. By binning continuous amounts into meaningful ranges, we make it easier to analyze whether fraudulent transactions are more common for larger amounts compared to smaller ones."
   ]
  },
  {
   "cell_type": "code",
   "execution_count": 67,
   "id": "2f2f6bf4-25a4-4c90-a45e-c8daf3fd857d",
   "metadata": {},
   "outputs": [],
   "source": [
    "def amt_range(amt: float) -> str:\n",
    "    if amt < 100:\n",
    "        return \"small\"\n",
    "    elif amt < 1000:\n",
    "        return \"medium\"\n",
    "    else:\n",
    "        return \"large\"\n",
    "\n",
    "df = df.with_columns([\n",
    "    df[\"amt\"].map_elements(amt_range, return_dtype=pl.Utf8).alias(\"trans_amt_range\")\n",
    "])"
   ]
  },
  {
   "cell_type": "code",
   "execution_count": 69,
   "id": "054899c8-8050-4fbc-83bb-fda644ceabfc",
   "metadata": {},
   "outputs": [
    {
     "data": {
      "text/html": [
       "<div><style>\n",
       ".dataframe > thead > tr,\n",
       ".dataframe > tbody > tr {\n",
       "  text-align: right;\n",
       "  white-space: pre-wrap;\n",
       "}\n",
       "</style>\n",
       "<small>shape: (5, 29)</small><table border=\"1\" class=\"dataframe\"><thead><tr><th>Unnamed: 0</th><th>trans_date_trans_time</th><th>cc_num</th><th>merchant</th><th>category</th><th>amt</th><th>first</th><th>last</th><th>gender</th><th>street</th><th>city</th><th>state</th><th>zip</th><th>lat</th><th>long</th><th>city_pop</th><th>job</th><th>dob</th><th>trans_num</th><th>unix_time</th><th>merch_lat</th><th>merch_long</th><th>is_fraud</th><th>merch_zipcode</th><th>hour</th><th>trans_day_cycle</th><th>month</th><th>trans_season</th><th>trans_amt_range</th></tr><tr><td>i64</td><td>datetime[μs]</td><td>i64</td><td>str</td><td>str</td><td>f64</td><td>str</td><td>str</td><td>str</td><td>str</td><td>str</td><td>str</td><td>i64</td><td>f64</td><td>f64</td><td>i64</td><td>str</td><td>str</td><td>str</td><td>i64</td><td>f64</td><td>f64</td><td>i64</td><td>i64</td><td>i8</td><td>str</td><td>i8</td><td>str</td><td>str</td></tr></thead><tbody><tr><td>539967</td><td>2019-08-19 12:28:18</td><td>30427035050508</td><td>&quot;fraud_Gaylord-Powlowski&quot;</td><td>&quot;home&quot;</td><td>5.74</td><td>&quot;John&quot;</td><td>&quot;Chandler&quot;</td><td>&quot;M&quot;</td><td>&quot;88325 Brandon Greens Apt. 477&quot;</td><td>&quot;Detroit&quot;</td><td>&quot;MI&quot;</td><td>48202</td><td>42.377</td><td>-83.0796</td><td>673342</td><td>&quot;Broadcast presenter&quot;</td><td>&quot;1969-11-20&quot;</td><td>&quot;bc41cc0e58637cde247fa5fcfbf71a…</td><td>1345379298</td><td>42.088198</td><td>-82.930233</td><td>0</td><td>null</td><td>12</td><td>&quot;afternoon&quot;</td><td>8</td><td>&quot;summer&quot;</td><td>&quot;small&quot;</td></tr><tr><td>1008604</td><td>2020-02-18 21:42:57</td><td>38295635583927</td><td>&quot;fraud_Windler, Goodwin and Kov…</td><td>&quot;home&quot;</td><td>21.67</td><td>&quot;Candice&quot;</td><td>&quot;Brown&quot;</td><td>&quot;F&quot;</td><td>&quot;9412 Harris Mews&quot;</td><td>&quot;O Brien&quot;</td><td>&quot;TX&quot;</td><td>79539</td><td>33.3749</td><td>-99.8473</td><td>178</td><td>&quot;Warden/ranger&quot;</td><td>&quot;1983-06-14&quot;</td><td>&quot;b73dd49435d9f960ddb290353d1920…</td><td>1361223777</td><td>33.664349</td><td>-99.66593</td><td>0</td><td>79505</td><td>21</td><td>&quot;night&quot;</td><td>2</td><td>&quot;winter&quot;</td><td>&quot;small&quot;</td></tr><tr><td>549746</td><td>2019-08-23 15:57:07</td><td>180031190491743</td><td>&quot;fraud_Schmidt-Larkin&quot;</td><td>&quot;home&quot;</td><td>40.01</td><td>&quot;Becky&quot;</td><td>&quot;Mckinney&quot;</td><td>&quot;F&quot;</td><td>&quot;250 Benjamin Hill Apt. 026&quot;</td><td>&quot;Mobile&quot;</td><td>&quot;AL&quot;</td><td>36617</td><td>30.7145</td><td>-88.0918</td><td>270712</td><td>&quot;Surveyor, land/geomatics&quot;</td><td>&quot;1972-01-05&quot;</td><td>&quot;53f8a07afc55e13dae74da89567224…</td><td>1345737427</td><td>31.294862</td><td>-88.672809</td><td>0</td><td>null</td><td>15</td><td>&quot;afternoon&quot;</td><td>8</td><td>&quot;summer&quot;</td><td>&quot;small&quot;</td></tr><tr><td>158414</td><td>2019-03-25 08:29:15</td><td>3582754887089201</td><td>&quot;fraud_Tillman, Fritsch and Sch…</td><td>&quot;misc_net&quot;</td><td>9.61</td><td>&quot;Terrance&quot;</td><td>&quot;Mckinney&quot;</td><td>&quot;M&quot;</td><td>&quot;42965 Christopher Fords Suite …</td><td>&quot;Norman&quot;</td><td>&quot;AR&quot;</td><td>71960</td><td>34.4596</td><td>-93.6743</td><td>1383</td><td>&quot;Magazine features editor&quot;</td><td>&quot;1966-08-08&quot;</td><td>&quot;40be0cdc0c3e292228dd1a08a6c628…</td><td>1332664155</td><td>34.890761</td><td>-93.211122</td><td>0</td><td>72857</td><td>8</td><td>&quot;morning&quot;</td><td>3</td><td>&quot;spring&quot;</td><td>&quot;small&quot;</td></tr><tr><td>830335</td><td>2019-12-10 20:48:51</td><td>36153880429415</td><td>&quot;fraud_Wilkinson PLC&quot;</td><td>&quot;kids_pets&quot;</td><td>120.34</td><td>&quot;Erik&quot;</td><td>&quot;Stevens&quot;</td><td>&quot;M&quot;</td><td>&quot;84033 Pitts Overpass&quot;</td><td>&quot;Lakeland&quot;</td><td>&quot;FL&quot;</td><td>33809</td><td>28.1762</td><td>-81.9591</td><td>237282</td><td>&quot;Plant breeder/geneticist&quot;</td><td>&quot;1949-10-13&quot;</td><td>&quot;669052a7b573e204340b4d17c73c79…</td><td>1355172531</td><td>27.56857</td><td>-82.224107</td><td>0</td><td>null</td><td>20</td><td>&quot;evening&quot;</td><td>12</td><td>&quot;winter&quot;</td><td>&quot;medium&quot;</td></tr></tbody></table></div>"
      ],
      "text/plain": [
       "shape: (5, 29)\n",
       "┌────────────┬────────────┬────────────┬───────────┬───┬───────────┬───────┬───────────┬───────────┐\n",
       "│ Unnamed: 0 ┆ trans_date ┆ cc_num     ┆ merchant  ┆ … ┆ trans_day ┆ month ┆ trans_sea ┆ trans_amt │\n",
       "│ ---        ┆ _trans_tim ┆ ---        ┆ ---       ┆   ┆ _cycle    ┆ ---   ┆ son       ┆ _range    │\n",
       "│ i64        ┆ e          ┆ i64        ┆ str       ┆   ┆ ---       ┆ i8    ┆ ---       ┆ ---       │\n",
       "│            ┆ ---        ┆            ┆           ┆   ┆ str       ┆       ┆ str       ┆ str       │\n",
       "│            ┆ datetime[μ ┆            ┆           ┆   ┆           ┆       ┆           ┆           │\n",
       "│            ┆ s]         ┆            ┆           ┆   ┆           ┆       ┆           ┆           │\n",
       "╞════════════╪════════════╪════════════╪═══════════╪═══╪═══════════╪═══════╪═══════════╪═══════════╡\n",
       "│ 539967     ┆ 2019-08-19 ┆ 3042703505 ┆ fraud_Gay ┆ … ┆ afternoon ┆ 8     ┆ summer    ┆ small     │\n",
       "│            ┆ 12:28:18   ┆ 0508       ┆ lord-Powl ┆   ┆           ┆       ┆           ┆           │\n",
       "│            ┆            ┆            ┆ owski     ┆   ┆           ┆       ┆           ┆           │\n",
       "│ 1008604    ┆ 2020-02-18 ┆ 3829563558 ┆ fraud_Win ┆ … ┆ night     ┆ 2     ┆ winter    ┆ small     │\n",
       "│            ┆ 21:42:57   ┆ 3927       ┆ dler,     ┆   ┆           ┆       ┆           ┆           │\n",
       "│            ┆            ┆            ┆ Goodwin   ┆   ┆           ┆       ┆           ┆           │\n",
       "│            ┆            ┆            ┆ and Kov…  ┆   ┆           ┆       ┆           ┆           │\n",
       "│ 549746     ┆ 2019-08-23 ┆ 1800311904 ┆ fraud_Sch ┆ … ┆ afternoon ┆ 8     ┆ summer    ┆ small     │\n",
       "│            ┆ 15:57:07   ┆ 91743      ┆ midt-Lark ┆   ┆           ┆       ┆           ┆           │\n",
       "│            ┆            ┆            ┆ in        ┆   ┆           ┆       ┆           ┆           │\n",
       "│ 158414     ┆ 2019-03-25 ┆ 3582754887 ┆ fraud_Til ┆ … ┆ morning   ┆ 3     ┆ spring    ┆ small     │\n",
       "│            ┆ 08:29:15   ┆ 089201     ┆ lman,     ┆   ┆           ┆       ┆           ┆           │\n",
       "│            ┆            ┆            ┆ Fritsch   ┆   ┆           ┆       ┆           ┆           │\n",
       "│            ┆            ┆            ┆ and Sch…  ┆   ┆           ┆       ┆           ┆           │\n",
       "│ 830335     ┆ 2019-12-10 ┆ 3615388042 ┆ fraud_Wil ┆ … ┆ evening   ┆ 12    ┆ winter    ┆ medium    │\n",
       "│            ┆ 20:48:51   ┆ 9415       ┆ kinson    ┆   ┆           ┆       ┆           ┆           │\n",
       "│            ┆            ┆            ┆ PLC       ┆   ┆           ┆       ┆           ┆           │\n",
       "└────────────┴────────────┴────────────┴───────────┴───┴───────────┴───────┴───────────┴───────────┘"
      ]
     },
     "execution_count": 69,
     "metadata": {},
     "output_type": "execute_result"
    }
   ],
   "source": [
    "df.sample(5)"
   ]
  },
  {
   "cell_type": "code",
   "execution_count": null,
   "id": "f499ce43-24ff-455a-b6d6-6fcb78ed091f",
   "metadata": {},
   "outputs": [],
   "source": []
  },
  {
   "cell_type": "code",
   "execution_count": null,
   "id": "9de8d701-d188-4477-91c4-70dfce8f0cc8",
   "metadata": {},
   "outputs": [],
   "source": []
  }
 ],
 "metadata": {
  "kernelspec": {
   "display_name": "Python [conda env:base] *",
   "language": "python",
   "name": "conda-base-py"
  },
  "language_info": {
   "codemirror_mode": {
    "name": "ipython",
    "version": 3
   },
   "file_extension": ".py",
   "mimetype": "text/x-python",
   "name": "python",
   "nbconvert_exporter": "python",
   "pygments_lexer": "ipython3",
   "version": "3.12.7"
  }
 },
 "nbformat": 4,
 "nbformat_minor": 5
}
