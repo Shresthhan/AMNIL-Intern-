{
 "cells": [
  {
   "cell_type": "markdown",
   "id": "348b428b-de8f-4e36-b4d6-4bb16b7e9155",
   "metadata": {},
   "source": [
    "# Importing Libraries"
   ]
  },
  {
   "cell_type": "code",
   "execution_count": 7,
   "id": "90db0965-5c99-4d5f-9acd-ccbf8e53d9f5",
   "metadata": {},
   "outputs": [],
   "source": [
    "import pandas as pd "
   ]
  },
  {
   "cell_type": "markdown",
   "id": "f7f15c9e-ec0c-4b07-a3cf-bb5828fd7a52",
   "metadata": {},
   "source": [
    "# Loading Dataset "
   ]
  },
  {
   "cell_type": "code",
   "execution_count": 11,
   "id": "0a83d51b-559b-4f37-9d5f-8b6aef1afd30",
   "metadata": {},
   "outputs": [],
   "source": [
    "df = pd.read_csv(r\"C:\\Users\\DELL\\Desktop\\AMNIL Intern\\AMNIL-Intern-\\Task_4\\credit_card_transactions.csv\")"
   ]
  },
  {
   "cell_type": "code",
   "execution_count": 20,
   "id": "94aaa7d8-cac4-4e42-abc2-b0d35d35a2b5",
   "metadata": {},
   "outputs": [
    {
     "data": {
      "text/html": [
       "<div>\n",
       "<style scoped>\n",
       "    .dataframe tbody tr th:only-of-type {\n",
       "        vertical-align: middle;\n",
       "    }\n",
       "\n",
       "    .dataframe tbody tr th {\n",
       "        vertical-align: top;\n",
       "    }\n",
       "\n",
       "    .dataframe thead th {\n",
       "        text-align: right;\n",
       "    }\n",
       "</style>\n",
       "<table border=\"1\" class=\"dataframe\">\n",
       "  <thead>\n",
       "    <tr style=\"text-align: right;\">\n",
       "      <th></th>\n",
       "      <th>Unnamed: 0</th>\n",
       "      <th>trans_date_trans_time</th>\n",
       "      <th>cc_num</th>\n",
       "      <th>merchant</th>\n",
       "      <th>category</th>\n",
       "      <th>amt</th>\n",
       "      <th>first</th>\n",
       "      <th>last</th>\n",
       "      <th>gender</th>\n",
       "      <th>street</th>\n",
       "      <th>...</th>\n",
       "      <th>long</th>\n",
       "      <th>city_pop</th>\n",
       "      <th>job</th>\n",
       "      <th>dob</th>\n",
       "      <th>trans_num</th>\n",
       "      <th>unix_time</th>\n",
       "      <th>merch_lat</th>\n",
       "      <th>merch_long</th>\n",
       "      <th>is_fraud</th>\n",
       "      <th>merch_zipcode</th>\n",
       "    </tr>\n",
       "  </thead>\n",
       "  <tbody>\n",
       "    <tr>\n",
       "      <th>1087047</th>\n",
       "      <td>1087047</td>\n",
       "      <td>2020-03-28 02:38:28</td>\n",
       "      <td>2222001896600109</td>\n",
       "      <td>fraud_Huels-Nolan</td>\n",
       "      <td>gas_transport</td>\n",
       "      <td>41.88</td>\n",
       "      <td>Susan</td>\n",
       "      <td>Hernandez</td>\n",
       "      <td>F</td>\n",
       "      <td>2193 Osborne Run Apt. 789</td>\n",
       "      <td>...</td>\n",
       "      <td>-89.9618</td>\n",
       "      <td>2401</td>\n",
       "      <td>Buyer, industrial</td>\n",
       "      <td>1972-01-03</td>\n",
       "      <td>9895ddcf0fe719e08f8fedf1acb253a4</td>\n",
       "      <td>1364438308</td>\n",
       "      <td>38.578710</td>\n",
       "      <td>-90.159351</td>\n",
       "      <td>0</td>\n",
       "      <td>62206.0</td>\n",
       "    </tr>\n",
       "    <tr>\n",
       "      <th>834371</th>\n",
       "      <td>834371</td>\n",
       "      <td>2019-12-12 02:03:18</td>\n",
       "      <td>2291163933867244</td>\n",
       "      <td>fraud_Heller-Langosh</td>\n",
       "      <td>gas_transport</td>\n",
       "      <td>73.83</td>\n",
       "      <td>Jeff</td>\n",
       "      <td>Elliott</td>\n",
       "      <td>M</td>\n",
       "      <td>351 Darlene Green</td>\n",
       "      <td>...</td>\n",
       "      <td>-80.9355</td>\n",
       "      <td>333497</td>\n",
       "      <td>Mechanical engineer</td>\n",
       "      <td>1968-03-19</td>\n",
       "      <td>dea9c07b513bcfa9d7269c076677a259</td>\n",
       "      <td>1355277798</td>\n",
       "      <td>33.611464</td>\n",
       "      <td>-81.792243</td>\n",
       "      <td>0</td>\n",
       "      <td>29829.0</td>\n",
       "    </tr>\n",
       "    <tr>\n",
       "      <th>700055</th>\n",
       "      <td>700055</td>\n",
       "      <td>2019-10-26 08:39:27</td>\n",
       "      <td>3541554378551366</td>\n",
       "      <td>fraud_Yost, Block and Koepp</td>\n",
       "      <td>misc_pos</td>\n",
       "      <td>2.77</td>\n",
       "      <td>Brianna</td>\n",
       "      <td>Wilson</td>\n",
       "      <td>F</td>\n",
       "      <td>257 Victor Stravenue</td>\n",
       "      <td>...</td>\n",
       "      <td>-76.4096</td>\n",
       "      <td>136895</td>\n",
       "      <td>Accounting technician</td>\n",
       "      <td>1939-09-19</td>\n",
       "      <td>e8d600133931fdb9feb21910143e8bab</td>\n",
       "      <td>1351240767</td>\n",
       "      <td>36.388095</td>\n",
       "      <td>-75.878533</td>\n",
       "      <td>0</td>\n",
       "      <td>27927.0</td>\n",
       "    </tr>\n",
       "    <tr>\n",
       "      <th>1134322</th>\n",
       "      <td>1134322</td>\n",
       "      <td>2020-04-17 19:01:22</td>\n",
       "      <td>345933964507467</td>\n",
       "      <td>fraud_Romaguera, Wehner and Tromp</td>\n",
       "      <td>kids_pets</td>\n",
       "      <td>82.65</td>\n",
       "      <td>Carol</td>\n",
       "      <td>Dillon</td>\n",
       "      <td>F</td>\n",
       "      <td>27479 Reeves Dale</td>\n",
       "      <td>...</td>\n",
       "      <td>-75.2811</td>\n",
       "      <td>718</td>\n",
       "      <td>Regulatory affairs officer</td>\n",
       "      <td>1985-03-19</td>\n",
       "      <td>5424dbd4b26e5a7b451a60778fd13b7c</td>\n",
       "      <td>1366225282</td>\n",
       "      <td>37.942720</td>\n",
       "      <td>-74.942943</td>\n",
       "      <td>0</td>\n",
       "      <td>NaN</td>\n",
       "    </tr>\n",
       "    <tr>\n",
       "      <th>1288561</th>\n",
       "      <td>1288561</td>\n",
       "      <td>2020-06-18 00:43:59</td>\n",
       "      <td>180046765320457</td>\n",
       "      <td>fraud_Raynor, Reinger and Hagenes</td>\n",
       "      <td>gas_transport</td>\n",
       "      <td>77.77</td>\n",
       "      <td>Jared</td>\n",
       "      <td>Camacho</td>\n",
       "      <td>M</td>\n",
       "      <td>4257 Perez Mall</td>\n",
       "      <td>...</td>\n",
       "      <td>-81.3739</td>\n",
       "      <td>192805</td>\n",
       "      <td>Building control surveyor</td>\n",
       "      <td>1963-06-30</td>\n",
       "      <td>6f1a7ae8b1909c5a5bdcaa25ebf51034</td>\n",
       "      <td>1371516239</td>\n",
       "      <td>41.495942</td>\n",
       "      <td>-81.398939</td>\n",
       "      <td>0</td>\n",
       "      <td>44040.0</td>\n",
       "    </tr>\n",
       "  </tbody>\n",
       "</table>\n",
       "<p>5 rows × 24 columns</p>\n",
       "</div>"
      ],
      "text/plain": [
       "         Unnamed: 0 trans_date_trans_time            cc_num  \\\n",
       "1087047     1087047   2020-03-28 02:38:28  2222001896600109   \n",
       "834371       834371   2019-12-12 02:03:18  2291163933867244   \n",
       "700055       700055   2019-10-26 08:39:27  3541554378551366   \n",
       "1134322     1134322   2020-04-17 19:01:22   345933964507467   \n",
       "1288561     1288561   2020-06-18 00:43:59   180046765320457   \n",
       "\n",
       "                                  merchant       category    amt    first  \\\n",
       "1087047                  fraud_Huels-Nolan  gas_transport  41.88    Susan   \n",
       "834371                fraud_Heller-Langosh  gas_transport  73.83     Jeff   \n",
       "700055         fraud_Yost, Block and Koepp       misc_pos   2.77  Brianna   \n",
       "1134322  fraud_Romaguera, Wehner and Tromp      kids_pets  82.65    Carol   \n",
       "1288561  fraud_Raynor, Reinger and Hagenes  gas_transport  77.77    Jared   \n",
       "\n",
       "              last gender                     street  ...     long city_pop  \\\n",
       "1087047  Hernandez      F  2193 Osborne Run Apt. 789  ... -89.9618     2401   \n",
       "834371     Elliott      M          351 Darlene Green  ... -80.9355   333497   \n",
       "700055      Wilson      F       257 Victor Stravenue  ... -76.4096   136895   \n",
       "1134322     Dillon      F          27479 Reeves Dale  ... -75.2811      718   \n",
       "1288561    Camacho      M            4257 Perez Mall  ... -81.3739   192805   \n",
       "\n",
       "                                job         dob  \\\n",
       "1087047           Buyer, industrial  1972-01-03   \n",
       "834371          Mechanical engineer  1968-03-19   \n",
       "700055        Accounting technician  1939-09-19   \n",
       "1134322  Regulatory affairs officer  1985-03-19   \n",
       "1288561   Building control surveyor  1963-06-30   \n",
       "\n",
       "                                trans_num   unix_time  merch_lat merch_long  \\\n",
       "1087047  9895ddcf0fe719e08f8fedf1acb253a4  1364438308  38.578710 -90.159351   \n",
       "834371   dea9c07b513bcfa9d7269c076677a259  1355277798  33.611464 -81.792243   \n",
       "700055   e8d600133931fdb9feb21910143e8bab  1351240767  36.388095 -75.878533   \n",
       "1134322  5424dbd4b26e5a7b451a60778fd13b7c  1366225282  37.942720 -74.942943   \n",
       "1288561  6f1a7ae8b1909c5a5bdcaa25ebf51034  1371516239  41.495942 -81.398939   \n",
       "\n",
       "        is_fraud  merch_zipcode  \n",
       "1087047        0        62206.0  \n",
       "834371         0        29829.0  \n",
       "700055         0        27927.0  \n",
       "1134322        0            NaN  \n",
       "1288561        0        44040.0  \n",
       "\n",
       "[5 rows x 24 columns]"
      ]
     },
     "execution_count": 20,
     "metadata": {},
     "output_type": "execute_result"
    }
   ],
   "source": [
    "df.sample(5)"
   ]
  },
  {
   "cell_type": "markdown",
   "id": "544cc0dd-7135-4a71-8df2-f00cf2b34234",
   "metadata": {},
   "source": [
    "# Basic Observation "
   ]
  },
  {
   "cell_type": "code",
   "execution_count": 22,
   "id": "882fe2ec-69c8-4ceb-abe4-bd4b9c125d9b",
   "metadata": {},
   "outputs": [
    {
     "data": {
      "text/plain": [
       "Index(['Unnamed: 0', 'trans_date_trans_time', 'cc_num', 'merchant', 'category',\n",
       "       'amt', 'first', 'last', 'gender', 'street', 'city', 'state', 'zip',\n",
       "       'lat', 'long', 'city_pop', 'job', 'dob', 'trans_num', 'unix_time',\n",
       "       'merch_lat', 'merch_long', 'is_fraud', 'merch_zipcode'],\n",
       "      dtype='object')"
      ]
     },
     "execution_count": 22,
     "metadata": {},
     "output_type": "execute_result"
    }
   ],
   "source": [
    "df.columns "
   ]
  },
  {
   "cell_type": "code",
   "execution_count": null,
   "id": "6ab2d81e-fd65-4021-9a34-22e20aee73dc",
   "metadata": {},
   "outputs": [],
   "source": [
    "time morning evening, lat long, name , amount lai bining , \n",
    "feature importance ra sap value ni presentation ma rakhne , inference "
   ]
  },
  {
   "cell_type": "code",
   "execution_count": 24,
   "id": "91f2397e-b35c-4481-b9f8-2c7bc0d42af5",
   "metadata": {},
   "outputs": [
    {
     "data": {
      "text/plain": [
       "(1296675, 24)"
      ]
     },
     "execution_count": 24,
     "metadata": {},
     "output_type": "execute_result"
    }
   ],
   "source": [
    "df.shape"
   ]
  },
  {
   "cell_type": "code",
   "execution_count": null,
   "id": "a9252137-a24c-45a1-879d-5095bbb7a52d",
   "metadata": {},
   "outputs": [],
   "source": []
  },
  {
   "cell_type": "code",
   "execution_count": null,
   "id": "0b5abff5-8e59-4270-ac45-d69e2c469eae",
   "metadata": {},
   "outputs": [],
   "source": []
  }
 ],
 "metadata": {
  "kernelspec": {
   "display_name": "Python [conda env:base] *",
   "language": "python",
   "name": "conda-base-py"
  },
  "language_info": {
   "codemirror_mode": {
    "name": "ipython",
    "version": 3
   },
   "file_extension": ".py",
   "mimetype": "text/x-python",
   "name": "python",
   "nbconvert_exporter": "python",
   "pygments_lexer": "ipython3",
   "version": "3.12.7"
  }
 },
 "nbformat": 4,
 "nbformat_minor": 5
}
